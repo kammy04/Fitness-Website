{
 "cells": [
  {
   "cell_type": "markdown",
   "metadata": {},
   "source": [
    "Project Overview\n",
    "Objective: Develop a system that personalizes workout plans based on users’ fitness levels, goals, and preferences. Use machine learning to adapt and optimize these plans over time.\n",
    "\n",
    "WALKTHRU\n",
    "\n",
    "-  select workout type, select dietary goal *DONE*\n",
    "-  have different data for heights, age, weight, gender in order to get the calorie maintenance for goals *DONE*\n",
    "\n",
    "-  different recommended exercises for specific workout type; how much workout you would be expected to lose  *DONE*\n",
    "\n",
    "side::\n",
    "you can hv seperate links for those stuff(cycling..) that show up with each goal. \n",
    "Each link(for workouts) takes you to a new website called exercise planner. Here, will be different workouts and how to use them with how much calories youd lose doing them, *DONE*\n",
    "\n",
    "\n",
    "- days on based off activity lvl\n",
    "- \n",
    "- Each link(for diets) takes you to a new website called diet planner. Here, will be different (recommended) foods you should eat with their nutritions and calories. \n",
    "for ts link user can input calorie info *DONE*\n",
    "\n",
    "\n",
    "\n",
    "-  How to do them exercises and how many reps/ sets recommended to do *DONE*\n",
    "\n",
    "- daily tracker\n",
    "- daily streaks(differnt emoticons based on daily streak)\n",
    "\n",
    "\n",
    "A top 5 website\n",
    "\n",
    "user can add top5 of anything ever. They go in a certain database. \n",
    "users can view other ppls top 5. users can view the most popular top5"
   ]
  }
 ],
 "metadata": {
  "language_info": {
   "name": "python"
  }
 },
 "nbformat": 4,
 "nbformat_minor": 2
}
